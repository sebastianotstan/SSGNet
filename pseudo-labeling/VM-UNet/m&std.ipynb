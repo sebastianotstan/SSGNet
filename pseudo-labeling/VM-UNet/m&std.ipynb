{
 "cells": [
  {
   "cell_type": "code",
   "execution_count": 6,
   "id": "3e483a40",
   "metadata": {},
   "outputs": [
    {
     "name": "stderr",
     "output_type": "stream",
     "text": [
      "Processing images: 100%|██████████| 353/353 [00:04<00:00, 71.43it/s]"
     ]
    },
    {
     "name": "stdout",
     "output_type": "stream",
     "text": [
      "Mean: tensor([0.4615, 0.4615, 0.4615])\n",
      "Std: tensor([0.1407, 0.1407, 0.1407])\n"
     ]
    },
    {
     "name": "stderr",
     "output_type": "stream",
     "text": [
      "\n"
     ]
    }
   ],
   "source": [
    "import os\n",
    "from PIL import Image\n",
    "import numpy as np\n",
    "from tqdm import tqdm\n",
    "import torch\n",
    "from torchvision import transforms\n",
    "\n",
    "# Set your dataset path\n",
    "# dataset_path = 'data/fullsize_split/val/images'  # <- change this!\n",
    "dataset_path = 'data/cbis_seg/val/images'  # <- change this!\n",
    "\n",
    "\n",
    "# Supported image extensions\n",
    "image_extensions = ['.jpg', '.jpeg', '.png', '.bmp']\n",
    "\n",
    "# Collect all image file paths\n",
    "image_files = [\n",
    "    os.path.join(root, file)\n",
    "    for root, _, files in os.walk(dataset_path)\n",
    "    for file in files\n",
    "    if os.path.splitext(file)[1].lower() in image_extensions\n",
    "]\n",
    "\n",
    "# Transformation to convert image to tensor\n",
    "transform = transforms.ToTensor()\n",
    "\n",
    "# Accumulators\n",
    "mean = 0.\n",
    "std = 0.\n",
    "nb_samples = 0\n",
    "\n",
    "for file in tqdm(image_files, desc='Processing images'):\n",
    "    img = Image.open(file).convert('RGB')  # force RGB\n",
    "    tensor = transform(img)  # shape: [C, H, W]\n",
    "    nb_samples += 1\n",
    "    mean += tensor.mean(dim=[1, 2])  # mean over H and W for each channel\n",
    "    std += tensor.std(dim=[1, 2])    # std over H and W for each channel\n",
    "\n",
    "# Final calculation\n",
    "mean /= nb_samples\n",
    "std /= nb_samples\n",
    "\n",
    "print(f\"Mean: {mean}\")\n",
    "print(f\"Std: {std}\")\n"
   ]
  }
 ],
 "metadata": {
  "kernelspec": {
   "display_name": "unet",
   "language": "python",
   "name": "python3"
  },
  "language_info": {
   "codemirror_mode": {
    "name": "ipython",
    "version": 3
   },
   "file_extension": ".py",
   "mimetype": "text/x-python",
   "name": "python",
   "nbconvert_exporter": "python",
   "pygments_lexer": "ipython3",
   "version": "3.9.21"
  }
 },
 "nbformat": 4,
 "nbformat_minor": 5
}
