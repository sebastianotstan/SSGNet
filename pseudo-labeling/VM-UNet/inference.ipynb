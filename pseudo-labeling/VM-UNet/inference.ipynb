{
 "cells": [
  {
   "cell_type": "code",
   "execution_count": null,
   "id": "b56fb0f0",
   "metadata": {},
   "outputs": [],
   "source": [
    "import os\n",
    "import torch\n",
    "import numpy as np\n",
    "import cv2\n",
    "from models.vmunet.vmunet import VMUNet\n",
    "from configs.config_setting_cbis import setting_config\n",
    "from utils import *"
   ]
  },
  {
   "cell_type": "code",
   "execution_count": null,
   "id": "ebddfca6",
   "metadata": {},
   "outputs": [],
   "source": [
    "def load_image(img_path, input_size=(256, 256)):\n",
    "    img = cv2.imread(img_path)\n",
    "    img = cv2.cvtColor(img, cv2.COLOR_BGR2RGB)\n",
    "    img = cv2.resize(img, input_size)\n",
    "    img = img.astype(np.float32) / 255.0  # normalize to [0, 1]\n",
    "    img_tensor = torch.from_numpy(img).permute(2, 0, 1).unsqueeze(0)  # shape: (1, 3, H, W)\n",
    "    return img_tensor"
   ]
  },
  {
   "cell_type": "code",
   "execution_count": null,
   "id": "333a03b5",
   "metadata": {},
   "outputs": [],
   "source": [
    "def run_inference(config, image_path, output_path):\n",
    "    model_cfg = config.model_config\n",
    "    model = VMUNet(\n",
    "        num_classes=model_cfg['num_classes'],\n",
    "        input_channels=model_cfg['input_channels'],\n",
    "        depths=model_cfg['depths'],\n",
    "        depths_decoder=model_cfg['depths_decoder'],\n",
    "        drop_path_rate=model_cfg['drop_path_rate'],\n",
    "        load_ckpt_path=model_cfg['load_ckpt_path'],\n",
    "    )\n",
    "    model.load_from()\n",
    "    \n",
    "    checkpoint = torch.load(os.path.join(config.work_dir, 'checkpoints/best.pth'), map_location='cpu')\n",
    "    model.load_state_dict(checkpoint)\n",
    "    model = model.cuda()\n",
    "    model.eval()\n",
    "\n",
    "    img_tensor = load_image(image_path).cuda()\n",
    "\n",
    "    with torch.no_grad():\n",
    "        output = model(img_tensor)\n",
    "        pred = torch.sigmoid(output).cpu().numpy()[0, 0]  # binary mask\n",
    "\n",
    "    # Save prediction mask\n",
    "    pred_mask = (pred * 255).astype(np.uint8)\n",
    "    cv2.imwrite(output_path, pred_mask)\n"
   ]
  },
  {
   "cell_type": "code",
   "execution_count": null,
   "id": "cae337f6",
   "metadata": {},
   "outputs": [],
   "source": [
    "# Configuration and paths\n",
    "config = setting_config\n",
    "test_image_path = './test_images/image1.png'  # <-- Change this to your image path\n",
    "output_mask_path = './outputs/mask1.png'      # <-- Desired output path\n",
    "\n",
    "# Run\n",
    "run_inference(config, test_image_path, output_mask_path)\n"
   ]
  }
 ],
 "metadata": {
  "kernelspec": {
   "display_name": "vmunet",
   "language": "python",
   "name": "python3"
  },
  "language_info": {
   "name": "python",
   "version": "3.8.20"
  }
 },
 "nbformat": 4,
 "nbformat_minor": 5
}
