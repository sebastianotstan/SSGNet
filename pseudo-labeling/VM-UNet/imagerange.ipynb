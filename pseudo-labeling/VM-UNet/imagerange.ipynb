{
 "cells": [
  {
   "cell_type": "code",
   "execution_count": 1,
   "id": "d9aad34a",
   "metadata": {},
   "outputs": [
    {
     "name": "stdout",
     "output_type": "stream",
     "text": [
      "Min pixel value: 0\n",
      "Max pixel value: 255\n",
      "Min tensor value (after ToTensor): 0.0\n",
      "Max tensor value (after ToTensor): 1.0\n"
     ]
    }
   ],
   "source": [
    "import os\n",
    "from PIL import Image\n",
    "import numpy as np\n",
    "from torchvision import transforms\n",
    "from torch.utils.data import DataLoader\n",
    "from torchvision.datasets import ImageFolder\n",
    "\n",
    "# Load a sample image from your dataset\n",
    "image_path = 'data/fullsize_split/train/images/cju3xuj20ivgp0818mij8bjrd.jpg'  # Replace with the path to your dataset\n",
    "image = Image.open(image_path)\n",
    "\n",
    "# Convert image to numpy array to check the range\n",
    "image_np = np.array(image)\n",
    "\n",
    "# Check the min and max values of the image's pixel values\n",
    "min_value = np.min(image_np)\n",
    "max_value = np.max(image_np)\n",
    "\n",
    "print(f\"Min pixel value: {min_value}\")\n",
    "print(f\"Max pixel value: {max_value}\")\n",
    "\n",
    "# If using a dataset with transformations\n",
    "transform = transforms.Compose([transforms.ToTensor()])  # This will convert the image to a tensor in [0, 1]\n",
    "image_tensor = transform(image)\n",
    "\n",
    "# Check the range of pixel values in the tensor\n",
    "min_tensor_value = image_tensor.min().item()\n",
    "max_tensor_value = image_tensor.max().item()\n",
    "\n",
    "print(f\"Min tensor value (after ToTensor): {min_tensor_value}\")\n",
    "print(f\"Max tensor value (after ToTensor): {max_tensor_value}\")\n"
   ]
  }
 ],
 "metadata": {
  "kernelspec": {
   "display_name": "unet",
   "language": "python",
   "name": "python3"
  },
  "language_info": {
   "codemirror_mode": {
    "name": "ipython",
    "version": 3
   },
   "file_extension": ".py",
   "mimetype": "text/x-python",
   "name": "python",
   "nbconvert_exporter": "python",
   "pygments_lexer": "ipython3",
   "version": "3.9.21"
  }
 },
 "nbformat": 4,
 "nbformat_minor": 5
}
